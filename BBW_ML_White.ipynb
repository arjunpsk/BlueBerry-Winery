{
 "cells": [
  {
   "cell_type": "markdown",
   "metadata": {},
   "source": [
    "# Module 1 - Project 2 - Sprint 3 and 4"
   ]
  },
  {
   "cell_type": "code",
   "execution_count": 4,
   "metadata": {},
   "outputs": [
    {
     "data": {
      "text/plain": [
       "'\\nfix_aci_rw = red_wine[\"fixed acidity\"]\\nvol_aci_rw = red_wine[\"volatile acidity\"]\\ncit_aci_rw = red_wine[\"citric acid\"]\\nres_sug_rw = red_wine[\"residual sugar\"]\\nchlo_rw = red_wine[\"chlorides\"]\\nfre_sul_dio_rw = red_wine[\"free sulfur dioxide\"]\\ntot_sul_dio_rw = red_wine[\"total sulfur dioxide\"]\\nden_rw = red_wine[\"density\"]\\nph_rw = red_wine[\"pH\"]\\nsul_rw = red_wine[\"sulphates\"]\\nalc_rw = red_wine[\"alcohol\"]\\nqua_rw = red_wine[\"quality\"]'"
      ]
     },
     "execution_count": 4,
     "metadata": {},
     "output_type": "execute_result"
    }
   ],
   "source": [
    "import numpy as np\n",
    "import pandas as pd\n",
    "import matplotlib.pyplot as plt\n",
    "import seaborn as sns\n",
    "from scipy.stats import stats\n",
    "from sklearn.linear_model import LogisticRegression\n",
    "from sklearn.metrics import classification_report, confusion_matrix\n",
    "from sklearn.preprocessing import MinMaxScaler\n",
    "from sklearn import preprocessing\n",
    "\n",
    "le = preprocessing.LabelEncoder()\n",
    "\n",
    "\n",
    "\n",
    "plt.rcParams['figure.dpi'] = 72  \n",
    "plt.rcParams['savefig.dpi'] = 72\n",
    "\n",
    "# Importing the red and white wine CSV from the folder \"Wine Quality\" in the folder of this project.\n",
    "\n",
    "\n",
    "white_wine = pd.read_csv('Wine Quality/winequality-white.csv', sep=\";\") \n",
    "\n",
    "\n",
    "\n",
    "'''\n",
    "fix_aci_rw = red_wine[\"fixed acidity\"]\n",
    "vol_aci_rw = red_wine[\"volatile acidity\"]\n",
    "cit_aci_rw = red_wine[\"citric acid\"]\n",
    "res_sug_rw = red_wine[\"residual sugar\"]\n",
    "chlo_rw = red_wine[\"chlorides\"]\n",
    "fre_sul_dio_rw = red_wine[\"free sulfur dioxide\"]\n",
    "tot_sul_dio_rw = red_wine[\"total sulfur dioxide\"]\n",
    "den_rw = red_wine[\"density\"]\n",
    "ph_rw = red_wine[\"pH\"]\n",
    "sul_rw = red_wine[\"sulphates\"]\n",
    "alc_rw = red_wine[\"alcohol\"]\n",
    "qua_rw = red_wine[\"quality\"]'''\n",
    "#df_names = pd.read_text('Wine Quality/winequality-names.txt')\n"
   ]
  },
  {
   "cell_type": "markdown",
   "metadata": {},
   "source": [
    "'0_low' if value <= 5 \n",
    "else '1_med' if value <= 7 \n",
    "else '2_hig')\n",
    "\n",
    "\n",
    "\n",
    "0_low 0 - 5\n",
    "\n",
    "1_med 6 - 7\n",
    "\n",
    "2_hig 7 - 9"
   ]
  },
  {
   "cell_type": "code",
   "execution_count": 5,
   "metadata": {},
   "outputs": [
    {
     "data": {
      "text/html": [
       "<div>\n",
       "<style scoped>\n",
       "    .dataframe tbody tr th:only-of-type {\n",
       "        vertical-align: middle;\n",
       "    }\n",
       "\n",
       "    .dataframe tbody tr th {\n",
       "        vertical-align: top;\n",
       "    }\n",
       "\n",
       "    .dataframe thead th {\n",
       "        text-align: right;\n",
       "    }\n",
       "</style>\n",
       "<table border=\"1\" class=\"dataframe\">\n",
       "  <thead>\n",
       "    <tr style=\"text-align: right;\">\n",
       "      <th></th>\n",
       "      <th>fixed acidity</th>\n",
       "      <th>volatile acidity</th>\n",
       "      <th>citric acid</th>\n",
       "      <th>residual sugar</th>\n",
       "      <th>chlorides</th>\n",
       "      <th>free sulfur dioxide</th>\n",
       "      <th>total sulfur dioxide</th>\n",
       "      <th>density</th>\n",
       "      <th>pH</th>\n",
       "      <th>sulphates</th>\n",
       "      <th>alcohol</th>\n",
       "      <th>quality</th>\n",
       "      <th>quality_label</th>\n",
       "    </tr>\n",
       "  </thead>\n",
       "  <tbody>\n",
       "    <tr>\n",
       "      <th>0</th>\n",
       "      <td>7.0</td>\n",
       "      <td>0.27</td>\n",
       "      <td>0.36</td>\n",
       "      <td>20.7</td>\n",
       "      <td>0.045</td>\n",
       "      <td>45.0</td>\n",
       "      <td>170.0</td>\n",
       "      <td>1.0010</td>\n",
       "      <td>3.00</td>\n",
       "      <td>0.45</td>\n",
       "      <td>8.8</td>\n",
       "      <td>6</td>\n",
       "      <td>1_med</td>\n",
       "    </tr>\n",
       "    <tr>\n",
       "      <th>1</th>\n",
       "      <td>6.3</td>\n",
       "      <td>0.30</td>\n",
       "      <td>0.34</td>\n",
       "      <td>1.6</td>\n",
       "      <td>0.049</td>\n",
       "      <td>14.0</td>\n",
       "      <td>132.0</td>\n",
       "      <td>0.9940</td>\n",
       "      <td>3.30</td>\n",
       "      <td>0.49</td>\n",
       "      <td>9.5</td>\n",
       "      <td>6</td>\n",
       "      <td>1_med</td>\n",
       "    </tr>\n",
       "    <tr>\n",
       "      <th>2</th>\n",
       "      <td>8.1</td>\n",
       "      <td>0.28</td>\n",
       "      <td>0.40</td>\n",
       "      <td>6.9</td>\n",
       "      <td>0.050</td>\n",
       "      <td>30.0</td>\n",
       "      <td>97.0</td>\n",
       "      <td>0.9951</td>\n",
       "      <td>3.26</td>\n",
       "      <td>0.44</td>\n",
       "      <td>10.1</td>\n",
       "      <td>6</td>\n",
       "      <td>1_med</td>\n",
       "    </tr>\n",
       "    <tr>\n",
       "      <th>3</th>\n",
       "      <td>7.2</td>\n",
       "      <td>0.23</td>\n",
       "      <td>0.32</td>\n",
       "      <td>8.5</td>\n",
       "      <td>0.058</td>\n",
       "      <td>47.0</td>\n",
       "      <td>186.0</td>\n",
       "      <td>0.9956</td>\n",
       "      <td>3.19</td>\n",
       "      <td>0.40</td>\n",
       "      <td>9.9</td>\n",
       "      <td>6</td>\n",
       "      <td>1_med</td>\n",
       "    </tr>\n",
       "    <tr>\n",
       "      <th>4</th>\n",
       "      <td>7.2</td>\n",
       "      <td>0.23</td>\n",
       "      <td>0.32</td>\n",
       "      <td>8.5</td>\n",
       "      <td>0.058</td>\n",
       "      <td>47.0</td>\n",
       "      <td>186.0</td>\n",
       "      <td>0.9956</td>\n",
       "      <td>3.19</td>\n",
       "      <td>0.40</td>\n",
       "      <td>9.9</td>\n",
       "      <td>6</td>\n",
       "      <td>1_med</td>\n",
       "    </tr>\n",
       "  </tbody>\n",
       "</table>\n",
       "</div>"
      ],
      "text/plain": [
       "   fixed acidity  volatile acidity  citric acid  residual sugar  chlorides  \\\n",
       "0            7.0              0.27         0.36            20.7      0.045   \n",
       "1            6.3              0.30         0.34             1.6      0.049   \n",
       "2            8.1              0.28         0.40             6.9      0.050   \n",
       "3            7.2              0.23         0.32             8.5      0.058   \n",
       "4            7.2              0.23         0.32             8.5      0.058   \n",
       "\n",
       "   free sulfur dioxide  total sulfur dioxide  density    pH  sulphates  \\\n",
       "0                 45.0                 170.0   1.0010  3.00       0.45   \n",
       "1                 14.0                 132.0   0.9940  3.30       0.49   \n",
       "2                 30.0                  97.0   0.9951  3.26       0.44   \n",
       "3                 47.0                 186.0   0.9956  3.19       0.40   \n",
       "4                 47.0                 186.0   0.9956  3.19       0.40   \n",
       "\n",
       "   alcohol  quality quality_label  \n",
       "0      8.8        6         1_med  \n",
       "1      9.5        6         1_med  \n",
       "2     10.1        6         1_med  \n",
       "3      9.9        6         1_med  \n",
       "4      9.9        6         1_med  "
      ]
     },
     "execution_count": 5,
     "metadata": {},
     "output_type": "execute_result"
    }
   ],
   "source": [
    "# White Wine\n",
    "# we are creating a new column called \"quality_label\", we define a range and associate that range with a label\n",
    "white_wine['quality_label'] = white_wine['quality'].apply(lambda value: '0_low' if value <= 5 \n",
    "else '1_med' if value <= 7 \n",
    "else '2_hig')\n",
    "\n",
    "# Here we are transforming these labels into categrical data type (specific to pandas) instead of simple string\n",
    "white_wine['quality_label'] = pd.Categorical(white_wine['quality_label'],\n",
    "categories=['0_low', '1_med', '2_hig'])\n",
    "\n",
    "white_wine.head()"
   ]
  },
  {
   "cell_type": "code",
   "execution_count": 6,
   "metadata": {},
   "outputs": [
    {
     "name": "stdout",
     "output_type": "stream",
     "text": [
      "object\n"
     ]
    },
    {
     "data": {
      "text/html": [
       "<div>\n",
       "<style scoped>\n",
       "    .dataframe tbody tr th:only-of-type {\n",
       "        vertical-align: middle;\n",
       "    }\n",
       "\n",
       "    .dataframe tbody tr th {\n",
       "        vertical-align: top;\n",
       "    }\n",
       "\n",
       "    .dataframe thead th {\n",
       "        text-align: right;\n",
       "    }\n",
       "</style>\n",
       "<table border=\"1\" class=\"dataframe\">\n",
       "  <thead>\n",
       "    <tr style=\"text-align: right;\">\n",
       "      <th></th>\n",
       "      <th>fixed acidity</th>\n",
       "      <th>volatile acidity</th>\n",
       "      <th>citric acid</th>\n",
       "      <th>residual sugar</th>\n",
       "      <th>chlorides</th>\n",
       "      <th>free sulfur dioxide</th>\n",
       "      <th>total sulfur dioxide</th>\n",
       "      <th>density</th>\n",
       "      <th>pH</th>\n",
       "      <th>sulphates</th>\n",
       "      <th>alcohol</th>\n",
       "      <th>quality</th>\n",
       "      <th>quality_label</th>\n",
       "      <th>wine_type</th>\n",
       "    </tr>\n",
       "  </thead>\n",
       "  <tbody>\n",
       "    <tr>\n",
       "      <th>0</th>\n",
       "      <td>7.0</td>\n",
       "      <td>0.27</td>\n",
       "      <td>0.36</td>\n",
       "      <td>20.7</td>\n",
       "      <td>0.045</td>\n",
       "      <td>45.0</td>\n",
       "      <td>170.0</td>\n",
       "      <td>1.0010</td>\n",
       "      <td>3.00</td>\n",
       "      <td>0.45</td>\n",
       "      <td>8.8</td>\n",
       "      <td>6</td>\n",
       "      <td>1_med</td>\n",
       "      <td>White</td>\n",
       "    </tr>\n",
       "    <tr>\n",
       "      <th>1</th>\n",
       "      <td>6.3</td>\n",
       "      <td>0.30</td>\n",
       "      <td>0.34</td>\n",
       "      <td>1.6</td>\n",
       "      <td>0.049</td>\n",
       "      <td>14.0</td>\n",
       "      <td>132.0</td>\n",
       "      <td>0.9940</td>\n",
       "      <td>3.30</td>\n",
       "      <td>0.49</td>\n",
       "      <td>9.5</td>\n",
       "      <td>6</td>\n",
       "      <td>1_med</td>\n",
       "      <td>White</td>\n",
       "    </tr>\n",
       "    <tr>\n",
       "      <th>2</th>\n",
       "      <td>8.1</td>\n",
       "      <td>0.28</td>\n",
       "      <td>0.40</td>\n",
       "      <td>6.9</td>\n",
       "      <td>0.050</td>\n",
       "      <td>30.0</td>\n",
       "      <td>97.0</td>\n",
       "      <td>0.9951</td>\n",
       "      <td>3.26</td>\n",
       "      <td>0.44</td>\n",
       "      <td>10.1</td>\n",
       "      <td>6</td>\n",
       "      <td>1_med</td>\n",
       "      <td>White</td>\n",
       "    </tr>\n",
       "    <tr>\n",
       "      <th>3</th>\n",
       "      <td>7.2</td>\n",
       "      <td>0.23</td>\n",
       "      <td>0.32</td>\n",
       "      <td>8.5</td>\n",
       "      <td>0.058</td>\n",
       "      <td>47.0</td>\n",
       "      <td>186.0</td>\n",
       "      <td>0.9956</td>\n",
       "      <td>3.19</td>\n",
       "      <td>0.40</td>\n",
       "      <td>9.9</td>\n",
       "      <td>6</td>\n",
       "      <td>1_med</td>\n",
       "      <td>White</td>\n",
       "    </tr>\n",
       "    <tr>\n",
       "      <th>4</th>\n",
       "      <td>7.2</td>\n",
       "      <td>0.23</td>\n",
       "      <td>0.32</td>\n",
       "      <td>8.5</td>\n",
       "      <td>0.058</td>\n",
       "      <td>47.0</td>\n",
       "      <td>186.0</td>\n",
       "      <td>0.9956</td>\n",
       "      <td>3.19</td>\n",
       "      <td>0.40</td>\n",
       "      <td>9.9</td>\n",
       "      <td>6</td>\n",
       "      <td>1_med</td>\n",
       "      <td>White</td>\n",
       "    </tr>\n",
       "  </tbody>\n",
       "</table>\n",
       "</div>"
      ],
      "text/plain": [
       "   fixed acidity  volatile acidity  citric acid  residual sugar  chlorides  \\\n",
       "0            7.0              0.27         0.36            20.7      0.045   \n",
       "1            6.3              0.30         0.34             1.6      0.049   \n",
       "2            8.1              0.28         0.40             6.9      0.050   \n",
       "3            7.2              0.23         0.32             8.5      0.058   \n",
       "4            7.2              0.23         0.32             8.5      0.058   \n",
       "\n",
       "   free sulfur dioxide  total sulfur dioxide  density    pH  sulphates  \\\n",
       "0                 45.0                 170.0   1.0010  3.00       0.45   \n",
       "1                 14.0                 132.0   0.9940  3.30       0.49   \n",
       "2                 30.0                  97.0   0.9951  3.26       0.44   \n",
       "3                 47.0                 186.0   0.9956  3.19       0.40   \n",
       "4                 47.0                 186.0   0.9956  3.19       0.40   \n",
       "\n",
       "   alcohol  quality quality_label wine_type  \n",
       "0      8.8        6         1_med     White  \n",
       "1      9.5        6         1_med     White  \n",
       "2     10.1        6         1_med     White  \n",
       "3      9.9        6         1_med     White  \n",
       "4      9.9        6         1_med     White  "
      ]
     },
     "execution_count": 6,
     "metadata": {},
     "output_type": "execute_result"
    }
   ],
   "source": [
    "# White wine:  Make a column to show what type of wine the row has. \n",
    "white_wine['wine_type'] = 'White'\n",
    "\n",
    "print(white_wine.dtypes['wine_type'])\n",
    "white_wine.head()"
   ]
  },
  {
   "cell_type": "code",
   "execution_count": 7,
   "metadata": {},
   "outputs": [],
   "source": [
    "# X = df # --> the features we will keep to build our model\n",
    "# y = target # --> what you're trying to predict\n",
    "# \n",
    "# # Example:\n",
    "# y=X.SalePrice\n",
    "# X.drop(['SalePrice'],axis=1,inplace=True)\n",
    "# print(y)\n",
    "# \n",
    "# X_train, X_test, y_train, y_test = train_test_split(X,y,test_size=0.2, random_state=42)"
   ]
  },
  {
   "cell_type": "code",
   "execution_count": 8,
   "metadata": {},
   "outputs": [
    {
     "name": "stdout",
     "output_type": "stream",
     "text": [
      "<class 'pandas.core.frame.DataFrame'>\n",
      "RangeIndex: 4898 entries, 0 to 4897\n",
      "Data columns (total 14 columns):\n",
      " #   Column                Non-Null Count  Dtype   \n",
      "---  ------                --------------  -----   \n",
      " 0   fixed acidity         4898 non-null   float64 \n",
      " 1   volatile acidity      4898 non-null   float64 \n",
      " 2   citric acid           4898 non-null   float64 \n",
      " 3   residual sugar        4898 non-null   float64 \n",
      " 4   chlorides             4898 non-null   float64 \n",
      " 5   free sulfur dioxide   4898 non-null   float64 \n",
      " 6   total sulfur dioxide  4898 non-null   float64 \n",
      " 7   density               4898 non-null   float64 \n",
      " 8   pH                    4898 non-null   float64 \n",
      " 9   sulphates             4898 non-null   float64 \n",
      " 10  alcohol               4898 non-null   float64 \n",
      " 11  quality               4898 non-null   int64   \n",
      " 12  quality_label         4898 non-null   category\n",
      " 13  wine_type             4898 non-null   object  \n",
      "dtypes: category(1), float64(11), int64(1), object(1)\n",
      "memory usage: 502.5+ KB\n"
     ]
    },
    {
     "data": {
      "text/plain": [
       "None"
      ]
     },
     "metadata": {},
     "output_type": "display_data"
    },
    {
     "data": {
      "text/plain": [
       "(4898, 14)"
      ]
     },
     "metadata": {},
     "output_type": "display_data"
    }
   ],
   "source": [
    "\n",
    "\n",
    "# Summary of the white_wine dataframe\n",
    "\n",
    "display(white_wine.info())\n",
    "display(white_wine.shape)\n"
   ]
  },
  {
   "cell_type": "code",
   "execution_count": 9,
   "metadata": {},
   "outputs": [
    {
     "data": {
      "text/plain": [
       "['0_low', '1_med', '2_hig']"
      ]
     },
     "execution_count": 9,
     "metadata": {},
     "output_type": "execute_result"
    }
   ],
   "source": [
    "\n",
    "le.fit(white_wine[\"quality_label\"])\n",
    "\n",
    "list(le.classes_)\n",
    "le.transform(['0_low', '1_med', '2_hig'])\n",
    "\n",
    "list(le.inverse_transform([0, 1, 2]))\n"
   ]
  },
  {
   "cell_type": "code",
   "execution_count": 11,
   "metadata": {},
   "outputs": [
    {
     "data": {
      "text/html": [
       "<div>\n",
       "<style scoped>\n",
       "    .dataframe tbody tr th:only-of-type {\n",
       "        vertical-align: middle;\n",
       "    }\n",
       "\n",
       "    .dataframe tbody tr th {\n",
       "        vertical-align: top;\n",
       "    }\n",
       "\n",
       "    .dataframe thead th {\n",
       "        text-align: right;\n",
       "    }\n",
       "</style>\n",
       "<table border=\"1\" class=\"dataframe\">\n",
       "  <thead>\n",
       "    <tr style=\"text-align: right;\">\n",
       "      <th></th>\n",
       "      <th>fixed acidity</th>\n",
       "      <th>volatile acidity</th>\n",
       "      <th>citric acid</th>\n",
       "      <th>residual sugar</th>\n",
       "      <th>chlorides</th>\n",
       "      <th>free sulfur dioxide</th>\n",
       "      <th>total sulfur dioxide</th>\n",
       "      <th>density</th>\n",
       "      <th>pH</th>\n",
       "      <th>sulphates</th>\n",
       "      <th>alcohol</th>\n",
       "      <th>quality</th>\n",
       "      <th>quality_label</th>\n",
       "      <th>wine_type</th>\n",
       "    </tr>\n",
       "  </thead>\n",
       "  <tbody>\n",
       "    <tr>\n",
       "      <th>774</th>\n",
       "      <td>9.1</td>\n",
       "      <td>0.27</td>\n",
       "      <td>0.45</td>\n",
       "      <td>10.6</td>\n",
       "      <td>0.035</td>\n",
       "      <td>28.0</td>\n",
       "      <td>124.0</td>\n",
       "      <td>0.99700</td>\n",
       "      <td>3.20</td>\n",
       "      <td>0.46</td>\n",
       "      <td>10.4</td>\n",
       "      <td>9</td>\n",
       "      <td>2_hig</td>\n",
       "      <td>White</td>\n",
       "    </tr>\n",
       "    <tr>\n",
       "      <th>820</th>\n",
       "      <td>6.6</td>\n",
       "      <td>0.36</td>\n",
       "      <td>0.29</td>\n",
       "      <td>1.6</td>\n",
       "      <td>0.021</td>\n",
       "      <td>24.0</td>\n",
       "      <td>85.0</td>\n",
       "      <td>0.98965</td>\n",
       "      <td>3.41</td>\n",
       "      <td>0.61</td>\n",
       "      <td>12.4</td>\n",
       "      <td>9</td>\n",
       "      <td>2_hig</td>\n",
       "      <td>White</td>\n",
       "    </tr>\n",
       "    <tr>\n",
       "      <th>827</th>\n",
       "      <td>7.4</td>\n",
       "      <td>0.24</td>\n",
       "      <td>0.36</td>\n",
       "      <td>2.0</td>\n",
       "      <td>0.031</td>\n",
       "      <td>27.0</td>\n",
       "      <td>139.0</td>\n",
       "      <td>0.99055</td>\n",
       "      <td>3.28</td>\n",
       "      <td>0.48</td>\n",
       "      <td>12.5</td>\n",
       "      <td>9</td>\n",
       "      <td>2_hig</td>\n",
       "      <td>White</td>\n",
       "    </tr>\n",
       "    <tr>\n",
       "      <th>876</th>\n",
       "      <td>6.9</td>\n",
       "      <td>0.36</td>\n",
       "      <td>0.34</td>\n",
       "      <td>4.2</td>\n",
       "      <td>0.018</td>\n",
       "      <td>57.0</td>\n",
       "      <td>119.0</td>\n",
       "      <td>0.98980</td>\n",
       "      <td>3.28</td>\n",
       "      <td>0.36</td>\n",
       "      <td>12.7</td>\n",
       "      <td>9</td>\n",
       "      <td>2_hig</td>\n",
       "      <td>White</td>\n",
       "    </tr>\n",
       "    <tr>\n",
       "      <th>1605</th>\n",
       "      <td>7.1</td>\n",
       "      <td>0.26</td>\n",
       "      <td>0.49</td>\n",
       "      <td>2.2</td>\n",
       "      <td>0.032</td>\n",
       "      <td>31.0</td>\n",
       "      <td>113.0</td>\n",
       "      <td>0.99030</td>\n",
       "      <td>3.37</td>\n",
       "      <td>0.42</td>\n",
       "      <td>12.9</td>\n",
       "      <td>9</td>\n",
       "      <td>2_hig</td>\n",
       "      <td>White</td>\n",
       "    </tr>\n",
       "  </tbody>\n",
       "</table>\n",
       "</div>"
      ],
      "text/plain": [
       "      fixed acidity  volatile acidity  citric acid  residual sugar  chlorides  \\\n",
       "774             9.1              0.27         0.45            10.6      0.035   \n",
       "820             6.6              0.36         0.29             1.6      0.021   \n",
       "827             7.4              0.24         0.36             2.0      0.031   \n",
       "876             6.9              0.36         0.34             4.2      0.018   \n",
       "1605            7.1              0.26         0.49             2.2      0.032   \n",
       "\n",
       "      free sulfur dioxide  total sulfur dioxide  density    pH  sulphates  \\\n",
       "774                  28.0                 124.0  0.99700  3.20       0.46   \n",
       "820                  24.0                  85.0  0.98965  3.41       0.61   \n",
       "827                  27.0                 139.0  0.99055  3.28       0.48   \n",
       "876                  57.0                 119.0  0.98980  3.28       0.36   \n",
       "1605                 31.0                 113.0  0.99030  3.37       0.42   \n",
       "\n",
       "      alcohol  quality quality_label wine_type  \n",
       "774      10.4        9         2_hig     White  \n",
       "820      12.4        9         2_hig     White  \n",
       "827      12.5        9         2_hig     White  \n",
       "876      12.7        9         2_hig     White  \n",
       "1605     12.9        9         2_hig     White  "
      ]
     },
     "execution_count": 11,
     "metadata": {},
     "output_type": "execute_result"
    }
   ],
   "source": [
    "# Show list of specific quality\n",
    "white_wine.loc[(white_wine[\"quality\"] >= 9)]\n"
   ]
  },
  {
   "cell_type": "code",
   "execution_count": 12,
   "metadata": {},
   "outputs": [
    {
     "data": {
      "text/plain": [
       "quality\n",
       "6    2198\n",
       "5    1457\n",
       "7     880\n",
       "8     175\n",
       "4     163\n",
       "3      20\n",
       "9       5\n",
       "dtype: int64"
      ]
     },
     "execution_count": 12,
     "metadata": {},
     "output_type": "execute_result"
    }
   ],
   "source": [
    "# Total number of wines for each quality\n",
    "\n",
    "white_wine.value_counts(\"quality\") "
   ]
  },
  {
   "cell_type": "code",
   "execution_count": 13,
   "metadata": {},
   "outputs": [
    {
     "ename": "NameError",
     "evalue": "name 'red_wine' is not defined",
     "output_type": "error",
     "traceback": [
      "\u001b[0;31m---------------------------------------------------------------------------\u001b[0m",
      "\u001b[0;31mNameError\u001b[0m                                 Traceback (most recent call last)",
      "\u001b[1;32m/Users/elysium/Documents/00_Code_Academy/Code_Academy Tasks/BlueBerry Winery/BBW_ML_White.ipynb Cell 11'\u001b[0m in \u001b[0;36m<cell line: 3>\u001b[0;34m()\u001b[0m\n\u001b[1;32m      <a href='vscode-notebook-cell:/Users/elysium/Documents/00_Code_Academy/Code_Academy%20Tasks/BlueBerry%20Winery/BBW_ML_White.ipynb#ch0000013?line=0'>1</a>\u001b[0m \u001b[39m# Make two new dataframes without the first 3 columns (fixed acidity, volatile acidity, citric acid) of both red_wine and white_wine.\u001b[39;00m\n\u001b[0;32m----> <a href='vscode-notebook-cell:/Users/elysium/Documents/00_Code_Academy/Code_Academy%20Tasks/BlueBerry%20Winery/BBW_ML_White.ipynb#ch0000013?line=2'>3</a>\u001b[0m df2 \u001b[39m=\u001b[39m pd\u001b[39m.\u001b[39mDataFrame(red_wine\u001b[39m.\u001b[39miloc[:,\u001b[39m3\u001b[39m:])\n\u001b[1;32m      <a href='vscode-notebook-cell:/Users/elysium/Documents/00_Code_Academy/Code_Academy%20Tasks/BlueBerry%20Winery/BBW_ML_White.ipynb#ch0000013?line=3'>4</a>\u001b[0m df2 \u001b[39m=\u001b[39m pd\u001b[39m.\u001b[39mDataFrame(df2\u001b[39m.\u001b[39mdescribe())\n\u001b[1;32m      <a href='vscode-notebook-cell:/Users/elysium/Documents/00_Code_Academy/Code_Academy%20Tasks/BlueBerry%20Winery/BBW_ML_White.ipynb#ch0000013?line=4'>5</a>\u001b[0m display(df2) \n",
      "\u001b[0;31mNameError\u001b[0m: name 'red_wine' is not defined"
     ]
    }
   ],
   "source": [
    "# Make two new dataframes without the first 3 columns (fixed acidity, volatile acidity, citric acid) of both red_wine and white_wine.\n",
    "\n",
    "df2 = pd.DataFrame(red_wine.iloc[:,3:])\n",
    "df2 = pd.DataFrame(df2.describe())\n",
    "display(df2) \n",
    "df3 = pd.DataFrame(white_wine.iloc[:,3:])\n",
    "df3 = pd.DataFrame(df3.describe())\n",
    "display(df3) \n",
    "\n",
    "# Create a table to compare descriptive stats of both types of wines.\n",
    "\n",
    "wines_describe = pd.concat([df2, df3], axis=1)\n",
    "\n",
    "wines_describe = wines_describe.round(decimals = 2)\n",
    "wines_describe\n"
   ]
  },
  {
   "cell_type": "markdown",
   "metadata": {},
   "source": [
    "![Tux, the Linux mascot](https://mdg.imgix.net/assets/images/tux.png?auto=format&fit=clip&q=40&w=100) \n",
    "> # Penguin Note\n",
    "## Make comments on base observations on the two tables above.  \n"
   ]
  },
  {
   "cell_type": "markdown",
   "metadata": {},
   "source": [
    "# Starting with MatPlotLib"
   ]
  },
  {
   "cell_type": "code",
   "execution_count": null,
   "metadata": {},
   "outputs": [],
   "source": [
    "# Create a pie chart showing the types of wines.\n",
    "\n",
    "plt.style.use(\"fivethirtyeight\")\n",
    "\n",
    "# Convert categories to dict\n",
    "\n",
    "wines['wine_type'] = pd.Categorical(wines['wine_type'],\n",
    "categories=['Red', 'White'])\n",
    "\n",
    "wine_type_dict = list(wines.value_counts(\"wine_type\"))\n",
    "print(wine_type_dict)\n",
    "\n",
    "display(wines.wine_type.value_counts().Red)\n",
    "\n",
    "#Make function to display values instead of percentage on pie chart\n",
    "\n",
    "def make_autopct(wine_type_dict):\n",
    "    def my_autopct(pct):\n",
    "        total = sum(wine_type_dict)\n",
    "        val = int(round(pct*total/100.0))\n",
    "        return '{p:.2f}% \\n({v:d})'.format(p=pct,v=val)\n",
    "    return my_autopct\n",
    "\n",
    "def func(type_of_wine):\n",
    "  return \"{:1.1f}%\".format(type_of_wine)\n",
    "  \n",
    "\n",
    "# Pie chart, where the slices will be ordered and plotted counter-clockwise:\n",
    "labels = 'White Wine', 'Red Wine'\n",
    "sizes = wines.value_counts(\"wine_type\")\n",
    "explode = (0, .05)  # only \"explode\" the 2nd slice \n",
    "sns.set(rc={'axes.facecolor':'white', 'figure.facecolor':'white'})\n",
    "sns.set_style(\"whitegrid\")\n",
    "fig1, ax1 = plt.subplots()\n",
    "ax1.pie(sizes, explode=explode, labels=labels, autopct=make_autopct(wine_type_dict),\n",
    "        shadow=False, startangle=45, colors= [ \"silver\", \"Red\"])\n",
    "ax1.axis('equal')  # Equal aspect ratio ensures that pie is drawn as a circle.\n",
    "\n",
    "plt.show()\n",
    "\n",
    "\n",
    "\n",
    "\n",
    "\n"
   ]
  },
  {
   "cell_type": "code",
   "execution_count": null,
   "metadata": {},
   "outputs": [],
   "source": [
    "# Count of each categroy value\n",
    "display(red_wine['quality'].value_counts())\n",
    "display(white_wine['quality'].value_counts())"
   ]
  },
  {
   "cell_type": "markdown",
   "metadata": {},
   "source": [
    "# Count plot of both types of wine and Quality"
   ]
  },
  {
   "cell_type": "code",
   "execution_count": null,
   "metadata": {},
   "outputs": [],
   "source": [
    "\n",
    "plt.figure(figsize=(12,9))\n",
    "sns.set(rc={'axes.facecolor':'white', 'figure.facecolor':'white'})\n",
    "sns.set_style(\"whitegrid\")\n",
    "plots = sns.countplot(wines.quality, hue=wines.wine_type, palette=[\"red\", \"silver\"])\n",
    "plt.xlabel('Quality')\n",
    "plt.ylabel('Count')\n",
    "for bar in plots.patches:\n",
    "    plots.annotate(format(bar.get_height(), '.0f'),\n",
    "                   (bar.get_x() + bar.get_width() / 2,\n",
    "                    bar.get_height()), ha='center', va='center',\n",
    "                   size=15, xytext=(0, 8),\n",
    "                   textcoords='offset points')"
   ]
  },
  {
   "cell_type": "markdown",
   "metadata": {},
   "source": [
    "## Reordering of the categories to Low, Medium, High"
   ]
  },
  {
   "cell_type": "code",
   "execution_count": null,
   "metadata": {},
   "outputs": [],
   "source": [
    "# Create a dataframe of the counts in quality_label for red_wine \n",
    "rw_ql = pd.DataFrame(red_wine.value_counts(\"quality_label\"))\n",
    "\n",
    "# make an new index\n",
    "rw_ql = rw_ql.reset_index()  \n",
    "\n",
    "# change column names\n",
    "rw_ql.columns = ['quality_label', 'Count for quality_label'] \n",
    "\n",
    "# re-order the list to show in the order \"low, medium, high\" instead of \"medium, low, high\"\n",
    "lst = [1, 0, 2]\n",
    "rw_ql = rw_ql.loc[lst]\n",
    "rw_ql\n",
    "\n",
    "\n"
   ]
  },
  {
   "cell_type": "code",
   "execution_count": null,
   "metadata": {},
   "outputs": [],
   "source": [
    "\n",
    "# Bar plot for the quality counts of red_wine\n",
    "red_wine_quality = rw_ql.plot.bar(x='quality_label', y='Count for quality_label', rot=0,\n",
    "legend=False, figsize=(8, 6), color=\"xkcd:reddish orange\")\n",
    "plt.xlabel('Quality')\n",
    "plt.ylabel('Count')\n",
    "sns.set_style(\"white\")\n",
    "plt.title(\"Red Wine\", fontsize=20)\n",
    "for bar in red_wine_quality.patches:\n",
    "    red_wine_quality.annotate(format(bar.get_height(), '.0f'),\n",
    "                   (bar.get_x() + bar.get_width() / 2,\n",
    "                    bar.get_height()), ha='center', va='center',\n",
    "                   size=15, xytext=(0, 8),\n",
    "                   textcoords='offset points')"
   ]
  },
  {
   "cell_type": "code",
   "execution_count": null,
   "metadata": {},
   "outputs": [],
   "source": [
    "# Create a dataframe of the counts in quality_label for white_wine \n",
    "ww_ql = pd.DataFrame(white_wine.value_counts(\"quality_label\"))\n",
    "\n",
    "# make an new index\n",
    "ww_ql = ww_ql.reset_index()  \n",
    "\n",
    "# change column names\n",
    "ww_ql.columns = ['quality_label', 'Count for quality_label'] \n",
    "\n",
    "# re-order the list to show in the order \"low, medium, high\" instead of \"medium, low, high\"\n",
    "lst = [1, 0, 2]\n",
    "ww_ql = ww_ql.loc[lst]\n",
    "ww_ql\n",
    "\n",
    "\n"
   ]
  },
  {
   "cell_type": "code",
   "execution_count": null,
   "metadata": {},
   "outputs": [],
   "source": [
    "# Bar plot for the quality counts of white_wine\n",
    "# matplotlib.pyplot.bar(x, height, width=0.8, bottom=None, *, align='center', data=None, **kwargs)\n",
    "\n",
    "# plt.bar_label(white_wine_quality.containers[0])\n",
    "white_wine_quality = ww_ql.plot.bar(x='quality_label', y='Count for quality_label', rot=0, \n",
    "legend=False, figsize=(8, 6), color=\"xkcd:silver\")\n",
    "plt.xlabel('Quality')\n",
    "plt.ylabel('Count')\n",
    "sns.set_style(\"white\")\n",
    "plt.title(\"White Wine\", fontsize=20)\n",
    "for bar in white_wine_quality.patches:\n",
    "    white_wine_quality.annotate(format(bar.get_height(), '.0f'),\n",
    "                   (bar.get_x() + bar.get_width() / 2,\n",
    "                    bar.get_height()), ha='center', va='center',\n",
    "                   size=15, xytext=(0, 8),\n",
    "                   textcoords='offset points')"
   ]
  },
  {
   "cell_type": "code",
   "execution_count": null,
   "metadata": {},
   "outputs": [],
   "source": [
    "# Box plots of all the columns in the dataset.\n",
    "fix, ax = plt.subplots(ncols = 6, nrows = 2, figsize = (25,20))\n",
    "index = 0\n",
    "ax = ax.flatten()\n",
    "\n",
    "for col, value in wines.items():\n",
    "    if col != \"types\":\n",
    "        sns.boxplot(y = col, data = red_wine, ax = ax[index])\n",
    "        index += 1"
   ]
  },
  {
   "cell_type": "markdown",
   "metadata": {},
   "source": [
    "# All Wine quality against Alcohol % and pH\n"
   ]
  },
  {
   "cell_type": "code",
   "execution_count": null,
   "metadata": {},
   "outputs": [],
   "source": [
    "# Box Plots - Wine qaulity against Alcohol %\n",
    "plt.figure(figsize=(10,10))\n",
    "sns.boxplot(x=\"quality_label\", y=\"alcohol\", data=wines).set(\n",
    "    xlabel='Wine Quality Class', \n",
    "    ylabel='Alcohol %',\n",
    "    title='Wine Quality - Alcohol %'\n",
    ")\n",
    "\n",
    "# Box Plots - Wine qaulity against pH\n",
    "plt.figure(figsize=(10,10))\n",
    "sns.boxplot(x=\"quality_label\", y=\"pH\", data=wines).set(\n",
    "    xlabel='Wine Quality Class', \n",
    "    ylabel='pH',\n",
    "    title='Wine Quality - pH'\n",
    ")"
   ]
  },
  {
   "cell_type": "markdown",
   "metadata": {},
   "source": [
    "# White Wine quality against Alcohol % and pH\n"
   ]
  },
  {
   "cell_type": "code",
   "execution_count": null,
   "metadata": {},
   "outputs": [],
   "source": [
    "# Box Plots - White Wine qaulity against Alcohol %\n",
    "plt.figure(figsize=(10,10))\n",
    "sns.boxplot(x=\"quality_label\", y=\"alcohol\", data=white_wine).set(\n",
    "    xlabel='White Wine Quality Class', \n",
    "    ylabel='Alcohol %',\n",
    "    title='White Wine Quality - Alcohol %'\n",
    ")\n",
    "\n",
    "# Box Plots - White Wine qaulity against pH\n",
    "plt.figure(figsize=(10,10))\n",
    "sns.boxplot(x=\"quality_label\", y=\"pH\", data=white_wine).set(\n",
    "    xlabel='White Wine Quality Class', \n",
    "    ylabel='pH',\n",
    "    title='White Wine Quality - pH'\n",
    ")"
   ]
  },
  {
   "cell_type": "markdown",
   "metadata": {},
   "source": [
    "# Red Wine quality against Alcohol % and pH"
   ]
  },
  {
   "cell_type": "code",
   "execution_count": null,
   "metadata": {},
   "outputs": [],
   "source": [
    "# Box Plots - Red Wine quality against Alcohol %\n",
    "plt.figure(figsize=(10,10))\n",
    "sns.boxplot(x=\"quality_label\", y=\"alcohol\", data = red_wine).set(\n",
    "    xlabel='Red Wine Quality Class', \n",
    "    ylabel='Alcohol %',\n",
    "    title='Red Wine Quality - Alcohol %'\n",
    ")\n",
    "\n",
    "# Box Plots - Wine quality against pH\n",
    "plt.figure(figsize=(10,10))\n",
    "sns.boxplot(x=\"quality_label\", y=\"pH\", data = red_wine).set(\n",
    "    xlabel='Red Wine Quality Class', \n",
    "    ylabel='pH',\n",
    "    title='Red Wine Quality - pH'\n",
    ")"
   ]
  },
  {
   "cell_type": "markdown",
   "metadata": {},
   "source": [
    "# Univariate diagrams have some visible differences between the two types. LOOK INTO IT."
   ]
  },
  {
   "cell_type": "code",
   "execution_count": null,
   "metadata": {},
   "outputs": [],
   "source": [
    "red_wine.hist(bins=15, color='red', edgecolor='black', linewidth=1.0, xlabelsize=8, ylabelsize=8, grid=False, figsize=[10,10])\n",
    "\n",
    "plt.tight_layout(rect=(0, 0, 1.2, 1.2))\n",
    "#plt.ylim([0,1000])\n",
    "\n",
    "rt = plt.suptitle('Red Wine Univariate Plots', x=0.65, y=1.25, fontsize=15)"
   ]
  },
  {
   "cell_type": "code",
   "execution_count": null,
   "metadata": {},
   "outputs": [],
   "source": [
    "white_wine.hist( bins=15, color='silver', edgecolor='black', linewidth=1.0, xlabelsize=8, ylabelsize=8, grid=False, figsize=[10,10])\n",
    "\n",
    "plt.tight_layout(rect=(0, 0, 1.2, 1.2))\n",
    "#plt.ylim(0,4000)\n",
    "\n",
    "rt = plt.suptitle('White Wine Univariate Plots', x=0.65, y=1.25, fontsize=15)"
   ]
  },
  {
   "cell_type": "code",
   "execution_count": null,
   "metadata": {},
   "outputs": [],
   "source": [
    "# testing histplot and see if they have a place in the presentation.\n",
    "sns.histplot(red_wine.alcohol, kde=True)"
   ]
  },
  {
   "cell_type": "markdown",
   "metadata": {},
   "source": [
    "# Bar Plots against quality"
   ]
  },
  {
   "cell_type": "code",
   "execution_count": null,
   "metadata": {},
   "outputs": [],
   "source": [
    "# Red Wine. Bar plots of all columns against quality.\n",
    "\n",
    "red_wine_1 = red_wine.select_dtypes([int, float])\n",
    "for i, col in enumerate(red_wine_1.columns):\n",
    "\tplt.figure(i)\n",
    "\tsns.barplot(x='quality', y = col, data = red_wine_1)\n",
    "\tplt.title(\"Red Wine\")\n",
    "\n",
    "\t\n"
   ]
  },
  {
   "cell_type": "code",
   "execution_count": null,
   "metadata": {},
   "outputs": [],
   "source": [
    "# White Wine. Bar plots of all columns against quality.\n",
    "white_wine_1 = white_wine.select_dtypes([int, float])\n",
    "for i, col in enumerate(white_wine_1.columns):\n",
    "\tplt.figure(i)\n",
    "\tsns.barplot(x='quality', y = col, data = white_wine_1)\n",
    "\tplt.title(\"White Wine\")\n",
    "\n",
    "\t\n"
   ]
  },
  {
   "cell_type": "code",
   "execution_count": null,
   "metadata": {},
   "outputs": [],
   "source": [
    "# Residual sugar comparison between both wine types\n",
    "\n",
    "plt.tight_layout(rect=(0, 0, 1.2, 1.2))\n",
    "\n",
    "red_wine.hist(\"residual sugar\", bins=15, color='red', edgecolor='black', linewidth=1.0, xlabelsize=8, ylabelsize=8, grid=False, figsize=[5,5] )\n",
    "plt.ylim([0,2500])\n",
    "plt.xlabel(\"g/dm3\")\n",
    "plt.title(\"Red Wine: Residual Sugar\")\n",
    "\n",
    "white_wine.hist(\"residual sugar\", bins=15, color='grey', edgecolor='black', linewidth=1.0, xlabelsize=8, ylabelsize=8, grid=False, figsize=[5,5])\n",
    "plt.ylim([0,2500])\n",
    "plt.xlabel(\"g/dm3\")\n",
    "plt.title(\"White Wine: Residual Sugar\")\n",
    "\n",
    "\n",
    "#rt = plt.suptitle('Red Wine Univariate Plots', x=0.65, y=1.25, fontsize=15)"
   ]
  },
  {
   "cell_type": "code",
   "execution_count": null,
   "metadata": {},
   "outputs": [],
   "source": [
    "# density comparison between both wine types\n",
    "plt.tight_layout(rect=(0, 0, 1.2, 1.2))\n",
    "\n",
    "red_wine.hist(\"density\", bins=15, color='red', edgecolor='black', linewidth=1.0, xlabelsize=8, ylabelsize=8, grid=False, figsize=[5,5] )\n",
    "\n",
    "plt.ylim([0,400])\n",
    "\n",
    "\n",
    "plt.xlabel(\"g/cm3\")\n",
    "plt.title(\"Red Wine: Density\")\n",
    "\n",
    "white_wine.hist(\"density\", bins=15, color='grey', edgecolor='black', linewidth=1.0, xlabelsize=8, ylabelsize=8, grid=False, figsize=[5,5])\n",
    "\n",
    "plt.ylim([0,2250])\n",
    "plt.xlabel(\"g/cm3\")\n",
    "plt.title(\"White Wine: Density\")\n",
    "\n"
   ]
  },
  {
   "cell_type": "markdown",
   "metadata": {},
   "source": [
    "# Pair plots of both wine types in each variable"
   ]
  },
  {
   "cell_type": "code",
   "execution_count": null,
   "metadata": {},
   "outputs": [],
   "source": [
    "sns.pairplot(data=wines,kind='scatter',diag_kind='kde',hue='wine_type', palette=[\"red\", \"silver\"])\n"
   ]
  },
  {
   "cell_type": "code",
   "execution_count": null,
   "metadata": {},
   "outputs": [],
   "source": [
    "#sns.pairplot(data=wines,kind='scatter',diag_kind='kde',hue='wine_type', palette=[\"red\", \"silver\"])\n",
    "\n",
    "# Plot the first 3 columns\n",
    "plt.figure()\n",
    "cols_to_plot = wines.columns[0:4].tolist() + ['wine_type'] # explicitly add the column \"wine_type\" to your list of columns to plot\n",
    "sns.pairplot(wines[cols_to_plot], hue =\"wine_type\", markers=[\"o\", \"s\"], palette=[\"red\", \"silver\"])\n",
    "plt.show()\n"
   ]
  },
  {
   "cell_type": "code",
   "execution_count": null,
   "metadata": {},
   "outputs": [],
   "source": [
    "# Red wine Heatmap with max and min of 1 and -1 respectively. Along with two different color ranges at the end of the spectrum with white in the middle (Technical term: Diverging colormaps) \n",
    "plt.figure(figsize=(12,8))\n",
    "\n",
    "corr= red_wine.corr()\n",
    "\n",
    "# Getting the Upper Triangle of the co-relation matrix\n",
    "matrix = np.triu(corr)\n",
    "\n",
    "# using the upper triangle matrix as mask \n",
    "sns.heatmap(corr, annot=True, mask=matrix, vmin=-1, vmax=1, cmap='seismic')\n",
    "\n",
    "\n",
    "plt.show()"
   ]
  },
  {
   "cell_type": "code",
   "execution_count": null,
   "metadata": {},
   "outputs": [],
   "source": [
    "# White wine Heatmap with max and min of 1 and -1 respectively. Along with two different color ranges at the end of the spectrum with white in the middle (Technical term: Diverging colormaps) \n",
    "\n",
    "plt.figure(figsize=(12,8))\n",
    "corr= white_wine.corr()\n",
    "\n",
    "# Getting the Upper Triangle of the co-relation matrix\n",
    "matrix = np.triu(corr)\n",
    "\n",
    "# using the upper triangle matrix as mask \n",
    "sns.heatmap(corr, annot=True, mask=matrix, vmin=-1, vmax=1, cmap='Spectral')\n",
    "\n",
    "\n",
    "plt.show()"
   ]
  },
  {
   "cell_type": "code",
   "execution_count": null,
   "metadata": {},
   "outputs": [],
   "source": [
    "# Correlation between quality and others in both wines.\n",
    "display(\"White Wine\", white_wine.corr()[['quality']].sort_values(by='quality', ascending = False))\n",
    "display(\"Red Wine\", red_wine.corr()[['quality']].sort_values(by='quality', ascending = False))"
   ]
  },
  {
   "cell_type": "code",
   "execution_count": null,
   "metadata": {},
   "outputs": [],
   "source": [
    "# Red wine Correlation heatmap of only quality against other variables\n",
    "plt.figure(figsize=(8, 12))\n",
    "heatmap = sns.heatmap(red_wine.corr()[['quality']].sort_values(by='quality', ascending=False), vmin=-1, vmax=1, annot=True, cmap='seismic')\n",
    "heatmap.set_title('Features Correlating with Quality', fontdict={'fontsize':18}, pad=16);"
   ]
  },
  {
   "cell_type": "code",
   "execution_count": null,
   "metadata": {},
   "outputs": [],
   "source": [
    "# White wine Correlation heatmap of only quality against other variables\n",
    "plt.figure(figsize=(8, 12))\n",
    "heatmap = sns.heatmap(red_wine.corr()[['quality']].sort_values(by='quality', ascending=False), vmin=-1, vmax=1, annot=True, cmap='Spectral')\n",
    "heatmap.set_title('Features Correlating with Quality', fontdict={'fontsize':18}, pad=16);"
   ]
  },
  {
   "cell_type": "code",
   "execution_count": null,
   "metadata": {},
   "outputs": [],
   "source": [
    "# Testing distplots of all the variables\n",
    "\n",
    "col = red_wine.columns\n",
    "print(col)\n",
    "fig, ax = plt.subplots(4, 3, figsize=(25, 40))\n",
    "k = 0\n",
    "\n",
    "for i in range(4):\n",
    "  for j in range(3):\n",
    "\n",
    "    sns.distplot(red_wine[col[k]], axlabel=col[k], ax=ax[i][j])\n",
    "    k += 1"
   ]
  },
  {
   "cell_type": "code",
   "execution_count": null,
   "metadata": {},
   "outputs": [],
   "source": [
    "# Red wine alcohol against density\n",
    "g = sns.JointGrid(x='alcohol', y='density', data=red_wine)\n",
    "g = g.plot_joint(sns.regplot, color='red')\n",
    "\n"
   ]
  },
  {
   "cell_type": "code",
   "execution_count": null,
   "metadata": {},
   "outputs": [],
   "source": [
    "# White wine alcohol against density\n",
    "g = sns.JointGrid(x='alcohol', y='density', data=white_wine)\n",
    "g = g.plot_joint(sns.regplot, color='silver')"
   ]
  },
  {
   "cell_type": "code",
   "execution_count": null,
   "metadata": {},
   "outputs": [],
   "source": [
    "# Red wine alcohol against quality\n",
    "g = sns.JointGrid(x='quality', y='alcohol', data=red_wine)\n",
    "g = g.plot_joint(sns.regplot, color='red')"
   ]
  },
  {
   "cell_type": "code",
   "execution_count": null,
   "metadata": {},
   "outputs": [],
   "source": [
    "# White wine alcohol against quality\n",
    "g = sns.JointGrid(x='quality', y='alcohol', data=white_wine)\n",
    "g = g.plot_joint(sns.regplot, color='silver')"
   ]
  },
  {
   "cell_type": "code",
   "execution_count": null,
   "metadata": {},
   "outputs": [],
   "source": [
    "# Red wine density against quality\n",
    "g = sns.JointGrid(x='quality', y='density', data=red_wine)\n",
    "g = g.plot_joint(sns.regplot, color='red')"
   ]
  },
  {
   "cell_type": "code",
   "execution_count": null,
   "metadata": {},
   "outputs": [],
   "source": [
    "# White wine density against quality\n",
    "g = sns.JointGrid(x='quality', y='density', data=white_wine)\n",
    "g = g.plot_joint(sns.regplot, color='silver')"
   ]
  },
  {
   "cell_type": "code",
   "execution_count": null,
   "metadata": {},
   "outputs": [],
   "source": [
    "# Red wine volatile acidity against quality\n",
    "g = sns.JointGrid(x='quality', y='volatile acidity', data=red_wine)\n",
    "g = g.plot_joint(sns.regplot, color='red')"
   ]
  },
  {
   "cell_type": "code",
   "execution_count": null,
   "metadata": {},
   "outputs": [],
   "source": [
    "# Red wine fixed acidity against quality\n",
    "\n",
    "g = sns.JointGrid(x='quality', y='fixed acidity', data=red_wine)\n",
    "g = g.plot_joint(sns.regplot, color='red')"
   ]
  },
  {
   "cell_type": "code",
   "execution_count": null,
   "metadata": {},
   "outputs": [],
   "source": [
    "# White wine volatile acidity against quality\n",
    "g = sns.JointGrid(x='quality', y='volatile acidity', data=white_wine)\n",
    "g = g.plot_joint(sns.regplot, color='silver')"
   ]
  },
  {
   "cell_type": "code",
   "execution_count": null,
   "metadata": {},
   "outputs": [],
   "source": [
    "# White wine fixed acidity against quality\n",
    "\n",
    "g = sns.JointGrid(x='quality', y='fixed acidity', data=white_wine)\n",
    "g = g.plot_joint(sns.regplot, color='silver')"
   ]
  }
 ],
 "metadata": {
  "kernelspec": {
   "display_name": "Python 3.9.12 ('base')",
   "language": "python",
   "name": "python3"
  },
  "language_info": {
   "codemirror_mode": {
    "name": "ipython",
    "version": 3
   },
   "file_extension": ".py",
   "mimetype": "text/x-python",
   "name": "python",
   "nbconvert_exporter": "python",
   "pygments_lexer": "ipython3",
   "version": "3.9.12"
  },
  "orig_nbformat": 4,
  "vscode": {
   "interpreter": {
    "hash": "7a8a4dc8d613e9e8c27c5e2456f5c23295b15759bea07848d14bd96410205d8c"
   }
  }
 },
 "nbformat": 4,
 "nbformat_minor": 2
}
